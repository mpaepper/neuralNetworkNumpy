{
 "cells": [
  {
   "cell_type": "markdown",
   "metadata": {},
   "source": [
    "## Training a simple neural network in Numpy\n",
    "\n",
    "### Build the ReLU activation function"
   ]
  },
  {
   "cell_type": "code",
   "execution_count": 1,
   "metadata": {},
   "outputs": [
    {
     "data": {
      "text/plain": [
       "[<matplotlib.lines.Line2D at 0x7f15c8e40450>]"
      ]
     },
     "execution_count": 1,
     "metadata": {},
     "output_type": "execute_result"
    },
    {
     "data": {
      "image/png": "[encoded data removed]",
      "text/plain": [
       "<matplotlib.figure.Figure at 0x7f15cb1c7ed0>"
      ]
     },
     "metadata": {},
     "output_type": "display_data"
    }
   ],
   "source": [
    "import matplotlib.pyplot as plt\n",
    "import numpy as np\n",
    "%matplotlib inline\n",
    "\n",
    "def relu(x):\n",
    "    return np.maximum(x, 0)\n",
    "    \n",
    "x = np.linspace(-5, 10)\n",
    "plt.plot(x, relu(x))"
   ]
  },
  {
   "cell_type": "markdown",
   "metadata": {},
   "source": [
    "### Define the basic parameters"
   ]
  },
  {
   "cell_type": "code",
   "execution_count": 2,
   "metadata": {},
   "outputs": [],
   "source": [
    "batch_size = 128\n",
    "input_dim = 1000\n",
    "hidden_dim = 100\n",
    "output_dim = 1"
   ]
  },
  {
   "cell_type": "markdown",
   "metadata": {},
   "source": [
    "### Create random input and target values"
   ]
  },
  {
   "cell_type": "code",
   "execution_count": 3,
   "metadata": {},
   "outputs": [],
   "source": [
    "input_values = np.random.randn(batch_size, input_dim)\n",
    "output_values = np.random.randn(batch_size, output_dim)"
   ]
  },
  {
   "cell_type": "markdown",
   "metadata": {},
   "source": [
    "### Create random weights for the network"
   ]
  },
  {
   "cell_type": "code",
   "execution_count": 4,
   "metadata": {},
   "outputs": [],
   "source": [
    "weights1 = np.random.randn(input_dim, hidden_dim)\n",
    "weights2 = np.random.randn(hidden_dim, output_dim)"
   ]
  },
  {
   "cell_type": "markdown",
   "metadata": {},
   "source": [
    "### Check out the random performance before training"
   ]
  },
  {
   "cell_type": "code",
   "execution_count": 5,
   "metadata": {},
   "outputs": [
    {
     "name": "stdout",
     "output_type": "stream",
     "text": [
      "[[ 231.08799048]\n",
      " [-184.72097336]\n",
      " [-177.72242427]\n",
      " [ 201.43606741]\n",
      " [ 215.93764616]]\n"
     ]
    }
   ],
   "source": [
    "layer1_activations = input_values.dot(weights1)\n",
    "layer1_relu = relu(layer1_activations)\n",
    "predictions = layer1_relu.dot(weights2)\n",
    "\n",
    "print(predictions[:5] - output_values[:5])"
   ]
  },
  {
   "cell_type": "markdown",
   "metadata": {},
   "source": [
    "### Train the network"
   ]
  },
  {
   "cell_type": "code",
   "execution_count": 6,
   "metadata": {},
   "outputs": [
    {
     "name": "stdout",
     "output_type": "stream",
     "text": [
      "(0, 5286828.3332003262)\n",
      "(10, 844841.21427552146)\n",
      "(20, 167050.57653580175)\n",
      "(30, 60925.106882812928)\n",
      "(40, 27176.865477645813)\n",
      "(50, 13590.892312243095)\n",
      "(60, 7209.3860289853483)\n",
      "(70, 3992.4183591390611)\n",
      "(80, 2294.8816974557171)\n",
      "(90, 1364.4740468781806)\n",
      "(100, 839.14371595411706)\n",
      "(200, 76.276268848792199)\n",
      "(300, 69.705903864818367)\n",
      "(400, 69.62503632468119)\n",
      "(500, 69.62361225261003)\n",
      "(600, 69.623581190689265)\n",
      "(700, 69.62358039218168)\n",
      "(800, 69.623580369708691)\n",
      "(900, 69.623580369048938)\n"
     ]
    }
   ],
   "source": [
    "num_loops = 1000\n",
    "learning_rate = 1e-6\n",
    "for i in range(num_loops):\n",
    "    activations = input_values.dot(weights1)\n",
    "    relu_activations = relu(activations)\n",
    "    predictions = relu_activations.dot(weights2)\n",
    "    \n",
    "    loss = np.sum(np.square(predictions - output_values))\n",
    "    if ((i <= 100) & (i % 10 == 0) | (i % 100 == 0)):\n",
    "        print(i, loss)\n",
    "    \n",
    "    # Gradients\n",
    "    dloss_predictions = 2.0 * (predictions - output_values) \n",
    "    dloss_weights2 = relu_activations.T.dot(dloss_predictions)\n",
    "    dloss_relu_activations = dloss_predictions.dot(weights2.T)\n",
    "    dloss_activations = dloss_relu_activations.copy()\n",
    "    dloss_activations[activations < 0] = 0\n",
    "    dloss_weights1 = input_values.T.dot(dloss_activations)\n",
    "    \n",
    "    # Gradient Descent\n",
    "    weights1 -= learning_rate * dloss_weights1\n",
    "    weights2 -= learning_rate * dloss_weights2"
   ]
  },
  {
   "cell_type": "markdown",
   "metadata": {},
   "source": [
    "### Checkout the performance after training"
   ]
  },
  {
   "cell_type": "code",
   "execution_count": 7,
   "metadata": {},
   "outputs": [
    {
     "name": "stdout",
     "output_type": "stream",
     "text": [
      "[[ -6.09074542e-01]\n",
      " [ -5.29990257e-01]\n",
      " [ -7.18314297e-14]\n",
      " [ -4.27324842e-13]\n",
      " [ -7.84308131e-01]]\n"
     ]
    }
   ],
   "source": [
    "layer1_activations = input_values.dot(weights1)\n",
    "layer1_relu = relu(layer1_activations)\n",
    "predictions = layer1_relu.dot(weights2)\n",
    "\n",
    "print(predictions[:5] - output_values[:5])"
   ]
  },
  {
   "cell_type": "markdown",
   "metadata": {},
   "source": [
    "The difference is now very close to 0, so I am satisfied for now."
   ]
  }
 ],
 "metadata": {
  "kernelspec": {
   "display_name": "Python 2",
   "language": "python",
   "name": "python2"
  },
  "language_info": {
   "codemirror_mode": {
    "name": "ipython",
    "version": 2
   },
   "file_extension": ".py",
   "mimetype": "text/x-python",
   "name": "python",
   "nbconvert_exporter": "python",
   "pygments_lexer": "ipython2",
   "version": "2.7.12"
  },
  "toc": {
   "base_numbering": 1,
   "nav_menu": {},
   "number_sections": true,
   "sideBar": true,
   "skip_h1_title": false,
   "title_cell": "Table of Contents",
   "title_sidebar": "Contents",
   "toc_cell": false,
   "toc_position": {},
   "toc_section_display": true,
   "toc_window_display": false
  }
 },
 "nbformat": 4,
 "nbformat_minor": 2
}
